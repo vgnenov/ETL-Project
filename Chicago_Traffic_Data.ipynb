{
 "cells": [
  {
   "cell_type": "code",
   "execution_count": 1,
   "metadata": {},
   "outputs": [],
   "source": [
    "#Importing Dependencies\n",
    "import pandas as pd"
   ]
  },
  {
   "cell_type": "code",
   "execution_count": 2,
   "metadata": {},
   "outputs": [
    {
     "ename": "FileNotFoundError",
     "evalue": "[Errno 2] File Resource/Red_Light_Camera_Violations.csv does not exist: 'Resource/Red_Light_Camera_Violations.csv'",
     "output_type": "error",
     "traceback": [
      "\u001b[1;31m---------------------------------------------------------------------------\u001b[0m",
      "\u001b[1;31mFileNotFoundError\u001b[0m                         Traceback (most recent call last)",
      "\u001b[1;32m<ipython-input-2-160461732b42>\u001b[0m in \u001b[0;36m<module>\u001b[1;34m\u001b[0m\n\u001b[0;32m      1\u001b[0m \u001b[1;31m#Store CSV into a DataFrame\u001b[0m\u001b[1;33m\u001b[0m\u001b[1;33m\u001b[0m\u001b[1;33m\u001b[0m\u001b[0m\n\u001b[0;32m      2\u001b[0m \u001b[0mcsv_file\u001b[0m \u001b[1;33m=\u001b[0m \u001b[1;34m\"Resource/Red_Light_Camera_Violations.csv\"\u001b[0m\u001b[1;33m\u001b[0m\u001b[1;33m\u001b[0m\u001b[0m\n\u001b[1;32m----> 3\u001b[1;33m \u001b[0mRed_Light_df\u001b[0m \u001b[1;33m=\u001b[0m \u001b[0mpd\u001b[0m\u001b[1;33m.\u001b[0m\u001b[0mread_csv\u001b[0m\u001b[1;33m(\u001b[0m\u001b[0mcsv_file\u001b[0m\u001b[1;33m)\u001b[0m\u001b[1;33m\u001b[0m\u001b[1;33m\u001b[0m\u001b[0m\n\u001b[0m\u001b[0;32m      4\u001b[0m \u001b[0mRed_Light_df\u001b[0m \u001b[1;33m=\u001b[0m \u001b[0mRed_Light_df\u001b[0m \u001b[1;33m[\u001b[0m\u001b[1;33m[\u001b[0m\u001b[1;34m'ADDRESS'\u001b[0m\u001b[1;33m,\u001b[0m \u001b[1;34m'VIOLATION DATE'\u001b[0m\u001b[1;33m,\u001b[0m \u001b[1;34m'VIOLATIONS'\u001b[0m\u001b[1;33m]\u001b[0m\u001b[1;33m]\u001b[0m\u001b[1;33m\u001b[0m\u001b[1;33m\u001b[0m\u001b[0m\n\u001b[0;32m      5\u001b[0m \u001b[0mRed_Light_df\u001b[0m\u001b[1;33m.\u001b[0m\u001b[0mhead\u001b[0m\u001b[1;33m(\u001b[0m\u001b[1;33m)\u001b[0m\u001b[1;33m\u001b[0m\u001b[1;33m\u001b[0m\u001b[0m\n",
      "\u001b[1;32m~\\anaconda3\\lib\\site-packages\\pandas\\io\\parsers.py\u001b[0m in \u001b[0;36mparser_f\u001b[1;34m(filepath_or_buffer, sep, delimiter, header, names, index_col, usecols, squeeze, prefix, mangle_dupe_cols, dtype, engine, converters, true_values, false_values, skipinitialspace, skiprows, skipfooter, nrows, na_values, keep_default_na, na_filter, verbose, skip_blank_lines, parse_dates, infer_datetime_format, keep_date_col, date_parser, dayfirst, cache_dates, iterator, chunksize, compression, thousands, decimal, lineterminator, quotechar, quoting, doublequote, escapechar, comment, encoding, dialect, error_bad_lines, warn_bad_lines, delim_whitespace, low_memory, memory_map, float_precision)\u001b[0m\n\u001b[0;32m    674\u001b[0m         )\n\u001b[0;32m    675\u001b[0m \u001b[1;33m\u001b[0m\u001b[0m\n\u001b[1;32m--> 676\u001b[1;33m         \u001b[1;32mreturn\u001b[0m \u001b[0m_read\u001b[0m\u001b[1;33m(\u001b[0m\u001b[0mfilepath_or_buffer\u001b[0m\u001b[1;33m,\u001b[0m \u001b[0mkwds\u001b[0m\u001b[1;33m)\u001b[0m\u001b[1;33m\u001b[0m\u001b[1;33m\u001b[0m\u001b[0m\n\u001b[0m\u001b[0;32m    677\u001b[0m \u001b[1;33m\u001b[0m\u001b[0m\n\u001b[0;32m    678\u001b[0m     \u001b[0mparser_f\u001b[0m\u001b[1;33m.\u001b[0m\u001b[0m__name__\u001b[0m \u001b[1;33m=\u001b[0m \u001b[0mname\u001b[0m\u001b[1;33m\u001b[0m\u001b[1;33m\u001b[0m\u001b[0m\n",
      "\u001b[1;32m~\\anaconda3\\lib\\site-packages\\pandas\\io\\parsers.py\u001b[0m in \u001b[0;36m_read\u001b[1;34m(filepath_or_buffer, kwds)\u001b[0m\n\u001b[0;32m    446\u001b[0m \u001b[1;33m\u001b[0m\u001b[0m\n\u001b[0;32m    447\u001b[0m     \u001b[1;31m# Create the parser.\u001b[0m\u001b[1;33m\u001b[0m\u001b[1;33m\u001b[0m\u001b[1;33m\u001b[0m\u001b[0m\n\u001b[1;32m--> 448\u001b[1;33m     \u001b[0mparser\u001b[0m \u001b[1;33m=\u001b[0m \u001b[0mTextFileReader\u001b[0m\u001b[1;33m(\u001b[0m\u001b[0mfp_or_buf\u001b[0m\u001b[1;33m,\u001b[0m \u001b[1;33m**\u001b[0m\u001b[0mkwds\u001b[0m\u001b[1;33m)\u001b[0m\u001b[1;33m\u001b[0m\u001b[1;33m\u001b[0m\u001b[0m\n\u001b[0m\u001b[0;32m    449\u001b[0m \u001b[1;33m\u001b[0m\u001b[0m\n\u001b[0;32m    450\u001b[0m     \u001b[1;32mif\u001b[0m \u001b[0mchunksize\u001b[0m \u001b[1;32mor\u001b[0m \u001b[0miterator\u001b[0m\u001b[1;33m:\u001b[0m\u001b[1;33m\u001b[0m\u001b[1;33m\u001b[0m\u001b[0m\n",
      "\u001b[1;32m~\\anaconda3\\lib\\site-packages\\pandas\\io\\parsers.py\u001b[0m in \u001b[0;36m__init__\u001b[1;34m(self, f, engine, **kwds)\u001b[0m\n\u001b[0;32m    878\u001b[0m             \u001b[0mself\u001b[0m\u001b[1;33m.\u001b[0m\u001b[0moptions\u001b[0m\u001b[1;33m[\u001b[0m\u001b[1;34m\"has_index_names\"\u001b[0m\u001b[1;33m]\u001b[0m \u001b[1;33m=\u001b[0m \u001b[0mkwds\u001b[0m\u001b[1;33m[\u001b[0m\u001b[1;34m\"has_index_names\"\u001b[0m\u001b[1;33m]\u001b[0m\u001b[1;33m\u001b[0m\u001b[1;33m\u001b[0m\u001b[0m\n\u001b[0;32m    879\u001b[0m \u001b[1;33m\u001b[0m\u001b[0m\n\u001b[1;32m--> 880\u001b[1;33m         \u001b[0mself\u001b[0m\u001b[1;33m.\u001b[0m\u001b[0m_make_engine\u001b[0m\u001b[1;33m(\u001b[0m\u001b[0mself\u001b[0m\u001b[1;33m.\u001b[0m\u001b[0mengine\u001b[0m\u001b[1;33m)\u001b[0m\u001b[1;33m\u001b[0m\u001b[1;33m\u001b[0m\u001b[0m\n\u001b[0m\u001b[0;32m    881\u001b[0m \u001b[1;33m\u001b[0m\u001b[0m\n\u001b[0;32m    882\u001b[0m     \u001b[1;32mdef\u001b[0m \u001b[0mclose\u001b[0m\u001b[1;33m(\u001b[0m\u001b[0mself\u001b[0m\u001b[1;33m)\u001b[0m\u001b[1;33m:\u001b[0m\u001b[1;33m\u001b[0m\u001b[1;33m\u001b[0m\u001b[0m\n",
      "\u001b[1;32m~\\anaconda3\\lib\\site-packages\\pandas\\io\\parsers.py\u001b[0m in \u001b[0;36m_make_engine\u001b[1;34m(self, engine)\u001b[0m\n\u001b[0;32m   1112\u001b[0m     \u001b[1;32mdef\u001b[0m \u001b[0m_make_engine\u001b[0m\u001b[1;33m(\u001b[0m\u001b[0mself\u001b[0m\u001b[1;33m,\u001b[0m \u001b[0mengine\u001b[0m\u001b[1;33m=\u001b[0m\u001b[1;34m\"c\"\u001b[0m\u001b[1;33m)\u001b[0m\u001b[1;33m:\u001b[0m\u001b[1;33m\u001b[0m\u001b[1;33m\u001b[0m\u001b[0m\n\u001b[0;32m   1113\u001b[0m         \u001b[1;32mif\u001b[0m \u001b[0mengine\u001b[0m \u001b[1;33m==\u001b[0m \u001b[1;34m\"c\"\u001b[0m\u001b[1;33m:\u001b[0m\u001b[1;33m\u001b[0m\u001b[1;33m\u001b[0m\u001b[0m\n\u001b[1;32m-> 1114\u001b[1;33m             \u001b[0mself\u001b[0m\u001b[1;33m.\u001b[0m\u001b[0m_engine\u001b[0m \u001b[1;33m=\u001b[0m \u001b[0mCParserWrapper\u001b[0m\u001b[1;33m(\u001b[0m\u001b[0mself\u001b[0m\u001b[1;33m.\u001b[0m\u001b[0mf\u001b[0m\u001b[1;33m,\u001b[0m \u001b[1;33m**\u001b[0m\u001b[0mself\u001b[0m\u001b[1;33m.\u001b[0m\u001b[0moptions\u001b[0m\u001b[1;33m)\u001b[0m\u001b[1;33m\u001b[0m\u001b[1;33m\u001b[0m\u001b[0m\n\u001b[0m\u001b[0;32m   1115\u001b[0m         \u001b[1;32melse\u001b[0m\u001b[1;33m:\u001b[0m\u001b[1;33m\u001b[0m\u001b[1;33m\u001b[0m\u001b[0m\n\u001b[0;32m   1116\u001b[0m             \u001b[1;32mif\u001b[0m \u001b[0mengine\u001b[0m \u001b[1;33m==\u001b[0m \u001b[1;34m\"python\"\u001b[0m\u001b[1;33m:\u001b[0m\u001b[1;33m\u001b[0m\u001b[1;33m\u001b[0m\u001b[0m\n",
      "\u001b[1;32m~\\anaconda3\\lib\\site-packages\\pandas\\io\\parsers.py\u001b[0m in \u001b[0;36m__init__\u001b[1;34m(self, src, **kwds)\u001b[0m\n\u001b[0;32m   1889\u001b[0m         \u001b[0mkwds\u001b[0m\u001b[1;33m[\u001b[0m\u001b[1;34m\"usecols\"\u001b[0m\u001b[1;33m]\u001b[0m \u001b[1;33m=\u001b[0m \u001b[0mself\u001b[0m\u001b[1;33m.\u001b[0m\u001b[0musecols\u001b[0m\u001b[1;33m\u001b[0m\u001b[1;33m\u001b[0m\u001b[0m\n\u001b[0;32m   1890\u001b[0m \u001b[1;33m\u001b[0m\u001b[0m\n\u001b[1;32m-> 1891\u001b[1;33m         \u001b[0mself\u001b[0m\u001b[1;33m.\u001b[0m\u001b[0m_reader\u001b[0m \u001b[1;33m=\u001b[0m \u001b[0mparsers\u001b[0m\u001b[1;33m.\u001b[0m\u001b[0mTextReader\u001b[0m\u001b[1;33m(\u001b[0m\u001b[0msrc\u001b[0m\u001b[1;33m,\u001b[0m \u001b[1;33m**\u001b[0m\u001b[0mkwds\u001b[0m\u001b[1;33m)\u001b[0m\u001b[1;33m\u001b[0m\u001b[1;33m\u001b[0m\u001b[0m\n\u001b[0m\u001b[0;32m   1892\u001b[0m         \u001b[0mself\u001b[0m\u001b[1;33m.\u001b[0m\u001b[0munnamed_cols\u001b[0m \u001b[1;33m=\u001b[0m \u001b[0mself\u001b[0m\u001b[1;33m.\u001b[0m\u001b[0m_reader\u001b[0m\u001b[1;33m.\u001b[0m\u001b[0munnamed_cols\u001b[0m\u001b[1;33m\u001b[0m\u001b[1;33m\u001b[0m\u001b[0m\n\u001b[0;32m   1893\u001b[0m \u001b[1;33m\u001b[0m\u001b[0m\n",
      "\u001b[1;32mpandas\\_libs\\parsers.pyx\u001b[0m in \u001b[0;36mpandas._libs.parsers.TextReader.__cinit__\u001b[1;34m()\u001b[0m\n",
      "\u001b[1;32mpandas\\_libs\\parsers.pyx\u001b[0m in \u001b[0;36mpandas._libs.parsers.TextReader._setup_parser_source\u001b[1;34m()\u001b[0m\n",
      "\u001b[1;31mFileNotFoundError\u001b[0m: [Errno 2] File Resource/Red_Light_Camera_Violations.csv does not exist: 'Resource/Red_Light_Camera_Violations.csv'"
     ]
    }
   ],
   "source": [
    "#Store CSV into a DataFrame\n",
    "csv_file = \"Resource/Red_Light_Camera_Violations.csv\"\n",
    "Red_Light_df = pd.read_csv(csv_file)\n",
    "Red_Light_df = Red_Light_df [['ADDRESS', 'VIOLATION DATE', 'VIOLATIONS']]\n",
    "Red_Light_df.head()"
   ]
  },
  {
   "cell_type": "code",
   "execution_count": null,
   "metadata": {},
   "outputs": [],
   "source": [
    "Red_Light_df.to_csv(\"Resource/Red_Light_Clean.csv\")"
   ]
  },
  {
   "cell_type": "code",
   "execution_count": null,
   "metadata": {},
<<<<<<< HEAD
   "outputs": [],
=======
   "outputs": [
    {
     "data": {
      "text/html": [
       "<div>\n",
       "<style scoped>\n",
       "    .dataframe tbody tr th:only-of-type {\n",
       "        vertical-align: middle;\n",
       "    }\n",
       "\n",
       "    .dataframe tbody tr th {\n",
       "        vertical-align: top;\n",
       "    }\n",
       "\n",
       "    .dataframe thead th {\n",
       "        text-align: right;\n",
       "    }\n",
       "</style>\n",
       "<table border=\"1\" class=\"dataframe\">\n",
       "  <thead>\n",
       "    <tr style=\"text-align: right;\">\n",
       "      <th></th>\n",
       "      <th>CRASH_DATE</th>\n",
       "      <th>STREET_DIRECTION</th>\n",
       "      <th>STREET_NAME</th>\n",
       "    </tr>\n",
       "  </thead>\n",
       "  <tbody>\n",
       "    <tr>\n",
       "      <th>0</th>\n",
       "      <td>10/02/2018 06:30:00 PM</td>\n",
       "      <td>W</td>\n",
       "      <td>OHARE ST</td>\n",
       "    </tr>\n",
       "    <tr>\n",
       "      <th>1</th>\n",
       "      <td>06/27/2019 04:00:00 PM</td>\n",
       "      <td>W</td>\n",
       "      <td>TERMINAL ST</td>\n",
       "    </tr>\n",
       "    <tr>\n",
       "      <th>2</th>\n",
       "      <td>06/30/2017 04:00:00 PM</td>\n",
       "      <td>S</td>\n",
       "      <td>CICERO AVE</td>\n",
       "    </tr>\n",
       "    <tr>\n",
       "      <th>3</th>\n",
       "      <td>03/21/2019 10:50:00 PM</td>\n",
       "      <td>S</td>\n",
       "      <td>CICERO AVE</td>\n",
       "    </tr>\n",
       "    <tr>\n",
       "      <th>4</th>\n",
       "      <td>03/26/2018 02:23:00 PM</td>\n",
       "      <td>N</td>\n",
       "      <td>AVONDALE AVE</td>\n",
       "    </tr>\n",
       "  </tbody>\n",
       "</table>\n",
       "</div>"
      ],
      "text/plain": [
       "               CRASH_DATE STREET_DIRECTION   STREET_NAME\n",
       "0  10/02/2018 06:30:00 PM                W      OHARE ST\n",
       "1  06/27/2019 04:00:00 PM                W   TERMINAL ST\n",
       "2  06/30/2017 04:00:00 PM                S    CICERO AVE\n",
       "3  03/21/2019 10:50:00 PM                S    CICERO AVE\n",
       "4  03/26/2018 02:23:00 PM                N  AVONDALE AVE"
      ]
     },
     "execution_count": 4,
     "metadata": {},
     "output_type": "execute_result"
    }
   ],
>>>>>>> 0ac1a6367429e41cbfbb080d97892cbf5ec872e9
   "source": [
    "csv_file = \"Resource/Traffic_Crashes_-_Crashes.csv\"\n",
    "Crashes_df = pd.read_csv(csv_file)\n",
    "Crashes_df = Crashes_df [['CRASH_DATE', 'STREET_DIRECTION', 'STREET_NAME' ]]\n",
    "Crashes_df.head()"
   ]
  },
  {
   "cell_type": "code",
   "execution_count": 3,
   "metadata": {},
   "outputs": [
    {
     "ename": "NameError",
     "evalue": "name 'Crashes_df' is not defined",
     "output_type": "error",
     "traceback": [
      "\u001b[1;31m---------------------------------------------------------------------------\u001b[0m",
      "\u001b[1;31mNameError\u001b[0m                                 Traceback (most recent call last)",
      "\u001b[1;32m<ipython-input-3-533b4117ffa1>\u001b[0m in \u001b[0;36m<module>\u001b[1;34m\u001b[0m\n\u001b[1;32m----> 1\u001b[1;33m \u001b[0mCrashes_df\u001b[0m\u001b[1;33m.\u001b[0m\u001b[0mto_csv\u001b[0m\u001b[1;33m(\u001b[0m\u001b[1;34m\"Resource/Crashes_Clean.csv\"\u001b[0m\u001b[1;33m)\u001b[0m\u001b[1;33m\u001b[0m\u001b[1;33m\u001b[0m\u001b[0m\n\u001b[0m",
      "\u001b[1;31mNameError\u001b[0m: name 'Crashes_df' is not defined"
     ]
    }
   ],
   "source": [
    "Crashes_df.to_csv(\"Resource/Crashes_Clean.csv\")"
   ]
  },
  {
   "cell_type": "code",
   "execution_count": 4,
   "metadata": {},
   "outputs": [
    {
     "ename": "NameError",
     "evalue": "name 'Crashes_df' is not defined",
     "output_type": "error",
     "traceback": [
      "\u001b[1;31m---------------------------------------------------------------------------\u001b[0m",
      "\u001b[1;31mNameError\u001b[0m                                 Traceback (most recent call last)",
      "\u001b[1;32m<ipython-input-4-0f3d41a51f71>\u001b[0m in \u001b[0;36m<module>\u001b[1;34m\u001b[0m\n\u001b[1;32m----> 1\u001b[1;33m \u001b[0mCrashes_df\u001b[0m\u001b[1;33m[\u001b[0m\u001b[1;34m\"STREET_NAME\"\u001b[0m\u001b[1;33m]\u001b[0m\u001b[1;33m.\u001b[0m\u001b[0munique\u001b[0m\u001b[1;33m(\u001b[0m\u001b[1;33m)\u001b[0m\u001b[1;33m\u001b[0m\u001b[1;33m\u001b[0m\u001b[0m\n\u001b[0m",
      "\u001b[1;31mNameError\u001b[0m: name 'Crashes_df' is not defined"
     ]
    }
   ],
   "source": [
    "Crashes_df[\"STREET_NAME\"].unique()"
   ]
  },
  {
   "cell_type": "code",
   "execution_count": 5,
   "metadata": {},
   "outputs": [
    {
     "ename": "NameError",
     "evalue": "name 'Red_Light_df' is not defined",
     "output_type": "error",
     "traceback": [
      "\u001b[1;31m---------------------------------------------------------------------------\u001b[0m",
      "\u001b[1;31mNameError\u001b[0m                                 Traceback (most recent call last)",
      "\u001b[1;32m<ipython-input-5-8c397e075aa1>\u001b[0m in \u001b[0;36m<module>\u001b[1;34m\u001b[0m\n\u001b[1;32m----> 1\u001b[1;33m \u001b[0mRed_Light_df\u001b[0m \u001b[1;33m[\u001b[0m\u001b[1;34m'STREET DIRECTION'\u001b[0m\u001b[1;33m]\u001b[0m \u001b[1;33m=\u001b[0m \u001b[0mRed_Light_df\u001b[0m\u001b[1;33m[\u001b[0m\u001b[1;34m\"ADDRESS\"\u001b[0m\u001b[1;33m]\u001b[0m\u001b[1;33m.\u001b[0m\u001b[0mstr\u001b[0m\u001b[1;33m.\u001b[0m\u001b[0msplit\u001b[0m\u001b[1;33m(\u001b[0m\u001b[1;34m\" \"\u001b[0m\u001b[1;33m)\u001b[0m\u001b[1;33m\u001b[0m\u001b[1;33m\u001b[0m\u001b[0m\n\u001b[0m\u001b[0;32m      2\u001b[0m \u001b[0mRed_Light_df\u001b[0m\u001b[1;33m\u001b[0m\u001b[1;33m\u001b[0m\u001b[0m\n",
      "\u001b[1;31mNameError\u001b[0m: name 'Red_Light_df' is not defined"
     ]
    }
   ],
   "source": [
    "Red_Light_df ['STREET DIRECTION'] = Red_Light_df[\"ADDRESS\"].str.split(\" \")\n",
    "Red_Light_df"
   ]
  },
  {
   "cell_type": "code",
   "execution_count": 6,
   "metadata": {},
   "outputs": [
    {
     "ename": "NameError",
     "evalue": "name 'Red_Light_df' is not defined",
     "output_type": "error",
     "traceback": [
      "\u001b[1;31m---------------------------------------------------------------------------\u001b[0m",
      "\u001b[1;31mNameError\u001b[0m                                 Traceback (most recent call last)",
      "\u001b[1;32m<ipython-input-6-220c0d912f8f>\u001b[0m in \u001b[0;36m<module>\u001b[1;34m\u001b[0m\n\u001b[1;32m----> 1\u001b[1;33m \u001b[0mRed_Light_df\u001b[0m \u001b[1;33m[\u001b[0m\u001b[1;33m[\u001b[0m\u001b[1;34m'STREET NUMBER'\u001b[0m\u001b[1;33m,\u001b[0m \u001b[1;34m'STREET DIRECTION'\u001b[0m\u001b[1;33m,\u001b[0m \u001b[1;34m'STREET NAME'\u001b[0m\u001b[1;33m]\u001b[0m\u001b[1;33m]\u001b[0m \u001b[1;33m=\u001b[0m \u001b[0mRed_Light_df\u001b[0m\u001b[1;33m[\u001b[0m\u001b[1;34m\"ADDRESS\"\u001b[0m\u001b[1;33m]\u001b[0m\u001b[1;33m.\u001b[0m\u001b[0mstr\u001b[0m\u001b[1;33m.\u001b[0m\u001b[0msplit\u001b[0m\u001b[1;33m(\u001b[0m\u001b[1;34m\" \"\u001b[0m\u001b[1;33m,\u001b[0m \u001b[0mn\u001b[0m\u001b[1;33m=\u001b[0m \u001b[1;36m2\u001b[0m\u001b[1;33m,\u001b[0m \u001b[0mexpand\u001b[0m \u001b[1;33m=\u001b[0m \u001b[1;32mTrue\u001b[0m\u001b[1;33m)\u001b[0m\u001b[1;33m\u001b[0m\u001b[1;33m\u001b[0m\u001b[0m\n\u001b[0m\u001b[0;32m      2\u001b[0m \u001b[0mRed_Light_df\u001b[0m\u001b[1;33m\u001b[0m\u001b[1;33m\u001b[0m\u001b[0m\n",
      "\u001b[1;31mNameError\u001b[0m: name 'Red_Light_df' is not defined"
     ]
    }
   ],
   "source": [
    "Red_Light_df [['STREET NUMBER', 'STREET DIRECTION', 'STREET NAME']] = Red_Light_df[\"ADDRESS\"].str.split(\" \", n= 2, expand = True)\n",
    "Red_Light_df"
   ]
  },
  {
   "cell_type": "code",
   "execution_count": 7,
   "metadata": {},
   "outputs": [
    {
     "ename": "NameError",
     "evalue": "name 'Red_Light_df' is not defined",
     "output_type": "error",
     "traceback": [
      "\u001b[1;31m---------------------------------------------------------------------------\u001b[0m",
      "\u001b[1;31mNameError\u001b[0m                                 Traceback (most recent call last)",
      "\u001b[1;32m<ipython-input-7-f7813ce780ac>\u001b[0m in \u001b[0;36m<module>\u001b[1;34m\u001b[0m\n\u001b[0;32m      1\u001b[0m \u001b[1;31m#print(sorted(Red_Light_df['STREET NAME'].unique))\u001b[0m\u001b[1;33m\u001b[0m\u001b[1;33m\u001b[0m\u001b[1;33m\u001b[0m\u001b[0m\n\u001b[1;32m----> 2\u001b[1;33m \u001b[0mpd\u001b[0m\u001b[1;33m.\u001b[0m\u001b[0mSeries\u001b[0m\u001b[1;33m(\u001b[0m\u001b[0mRed_Light_df\u001b[0m\u001b[1;33m[\u001b[0m\u001b[1;34m'STREET NAME'\u001b[0m\u001b[1;33m]\u001b[0m\u001b[1;33m.\u001b[0m\u001b[0munique\u001b[0m\u001b[1;33m(\u001b[0m\u001b[1;33m)\u001b[0m\u001b[1;33m)\u001b[0m\u001b[1;33m.\u001b[0m\u001b[0msort_values\u001b[0m\u001b[1;33m(\u001b[0m\u001b[1;33m)\u001b[0m\u001b[1;33m\u001b[0m\u001b[1;33m\u001b[0m\u001b[0m\n\u001b[0m",
      "\u001b[1;31mNameError\u001b[0m: name 'Red_Light_df' is not defined"
     ]
    }
   ],
   "source": [
    "#print(sorted(Red_Light_df['STREET NAME'].unique))\n",
    "pd.Series(Red_Light_df['STREET NAME'].unique()).sort_values()"
   ]
  },
  {
   "cell_type": "code",
   "execution_count": 8,
   "metadata": {},
   "outputs": [
    {
     "ename": "NameError",
     "evalue": "name 'Red_Light_df' is not defined",
     "output_type": "error",
     "traceback": [
      "\u001b[1;31m---------------------------------------------------------------------------\u001b[0m",
      "\u001b[1;31mNameError\u001b[0m                                 Traceback (most recent call last)",
      "\u001b[1;32m<ipython-input-8-fd9f31f5e528>\u001b[0m in \u001b[0;36m<module>\u001b[1;34m\u001b[0m\n\u001b[1;32m----> 1\u001b[1;33m \u001b[0mRed_Light_df\u001b[0m \u001b[1;33m[\u001b[0m\u001b[1;33m[\u001b[0m\u001b[1;34m'STREET'\u001b[0m\u001b[1;33m,\u001b[0m \u001b[1;34m'SUFFIX'\u001b[0m\u001b[1;33m]\u001b[0m\u001b[1;33m]\u001b[0m \u001b[1;33m=\u001b[0m \u001b[0mRed_Light_df\u001b[0m\u001b[1;33m[\u001b[0m\u001b[1;34m\"STREET NAME\"\u001b[0m\u001b[1;33m]\u001b[0m\u001b[1;33m.\u001b[0m\u001b[0mstr\u001b[0m\u001b[1;33m.\u001b[0m\u001b[0mrsplit\u001b[0m\u001b[1;33m(\u001b[0m\u001b[1;34m\" \"\u001b[0m\u001b[1;33m,\u001b[0m \u001b[0mn\u001b[0m\u001b[1;33m=\u001b[0m \u001b[1;36m1\u001b[0m\u001b[1;33m,\u001b[0m \u001b[0mexpand\u001b[0m \u001b[1;33m=\u001b[0m \u001b[1;32mTrue\u001b[0m\u001b[1;33m)\u001b[0m\u001b[1;33m\u001b[0m\u001b[1;33m\u001b[0m\u001b[0m\n\u001b[0m\u001b[0;32m      2\u001b[0m \u001b[0mRed_Light_df\u001b[0m\u001b[1;33m\u001b[0m\u001b[1;33m\u001b[0m\u001b[0m\n",
      "\u001b[1;31mNameError\u001b[0m: name 'Red_Light_df' is not defined"
     ]
    }
   ],
   "source": [
    "Red_Light_df [['STREET', 'SUFFIX']] = Red_Light_df[\"STREET NAME\"].str.rsplit(\" \", n= 1, expand = True)\n",
    "Red_Light_df"
   ]
  },
  {
   "cell_type": "code",
   "execution_count": 48,
   "metadata": {},
   "outputs": [
    {
     "ename": "NameError",
     "evalue": "name 'Red_Light_df' is not defined",
     "output_type": "error",
     "traceback": [
      "\u001b[1;31m---------------------------------------------------------------------------\u001b[0m",
      "\u001b[1;31mNameError\u001b[0m                                 Traceback (most recent call last)",
      "\u001b[1;32m<ipython-input-48-41cf6765a1d6>\u001b[0m in \u001b[0;36m<module>\u001b[1;34m\u001b[0m\n\u001b[1;32m----> 1\u001b[1;33m \u001b[0mRed_Light_df\u001b[0m \u001b[1;33m=\u001b[0m \u001b[0mRed_Light_df\u001b[0m \u001b[1;33m[\u001b[0m\u001b[1;33m[\u001b[0m\u001b[1;34m'VIOLATION DATE'\u001b[0m\u001b[1;33m,\u001b[0m \u001b[1;34m'VIOLATIONS'\u001b[0m\u001b[1;33m,\u001b[0m \u001b[1;34m'STREET DIRECTION'\u001b[0m\u001b[1;33m,\u001b[0m \u001b[1;34m'STREET'\u001b[0m\u001b[1;33m]\u001b[0m\u001b[1;33m]\u001b[0m\u001b[1;33m\u001b[0m\u001b[1;33m\u001b[0m\u001b[0m\n\u001b[0m\u001b[0;32m      2\u001b[0m \u001b[0mRed_Light_df\u001b[0m\u001b[1;33m\u001b[0m\u001b[1;33m\u001b[0m\u001b[0m\n",
      "\u001b[1;31mNameError\u001b[0m: name 'Red_Light_df' is not defined"
     ]
    }
   ],
   "source": [
    "Red_Light_df = Red_Light_df [['VIOLATION DATE', 'VIOLATIONS', 'STREET DIRECTION', 'STREET']]\n",
    "Red_Light_df"
   ]
  },
  {
   "cell_type": "code",
   "execution_count": 49,
   "metadata": {},
   "outputs": [
    {
<<<<<<< HEAD
     "ename": "NameError",
     "evalue": "name 'Crashes_df' is not defined",
     "output_type": "error",
     "traceback": [
      "\u001b[1;31m---------------------------------------------------------------------------\u001b[0m",
      "\u001b[1;31mNameError\u001b[0m                                 Traceback (most recent call last)",
      "\u001b[1;32m<ipython-input-49-e30e48a4b6a3>\u001b[0m in \u001b[0;36m<module>\u001b[1;34m\u001b[0m\n\u001b[1;32m----> 1\u001b[1;33m \u001b[0mCrashes_df\u001b[0m\u001b[1;33m\u001b[0m\u001b[1;33m\u001b[0m\u001b[0m\n\u001b[0m",
      "\u001b[1;31mNameError\u001b[0m: name 'Crashes_df' is not defined"
     ]
=======
     "data": {
      "text/html": [
       "<div>\n",
       "<style scoped>\n",
       "    .dataframe tbody tr th:only-of-type {\n",
       "        vertical-align: middle;\n",
       "    }\n",
       "\n",
       "    .dataframe tbody tr th {\n",
       "        vertical-align: top;\n",
       "    }\n",
       "\n",
       "    .dataframe thead th {\n",
       "        text-align: right;\n",
       "    }\n",
       "</style>\n",
       "<table border=\"1\" class=\"dataframe\">\n",
       "  <thead>\n",
       "    <tr style=\"text-align: right;\">\n",
       "      <th></th>\n",
       "      <th>CRASH_DATE</th>\n",
       "      <th>STREET_DIRECTION</th>\n",
       "      <th>STREET_NAME</th>\n",
       "    </tr>\n",
       "  </thead>\n",
       "  <tbody>\n",
       "    <tr>\n",
       "      <th>0</th>\n",
       "      <td>10/02/2018 06:30:00 PM</td>\n",
       "      <td>W</td>\n",
       "      <td>OHARE ST</td>\n",
       "    </tr>\n",
       "    <tr>\n",
       "      <th>1</th>\n",
       "      <td>06/27/2019 04:00:00 PM</td>\n",
       "      <td>W</td>\n",
       "      <td>TERMINAL ST</td>\n",
       "    </tr>\n",
       "    <tr>\n",
       "      <th>2</th>\n",
       "      <td>06/30/2017 04:00:00 PM</td>\n",
       "      <td>S</td>\n",
       "      <td>CICERO AVE</td>\n",
       "    </tr>\n",
       "    <tr>\n",
       "      <th>3</th>\n",
       "      <td>03/21/2019 10:50:00 PM</td>\n",
       "      <td>S</td>\n",
       "      <td>CICERO AVE</td>\n",
       "    </tr>\n",
       "    <tr>\n",
       "      <th>4</th>\n",
       "      <td>03/26/2018 02:23:00 PM</td>\n",
       "      <td>N</td>\n",
       "      <td>AVONDALE AVE</td>\n",
       "    </tr>\n",
       "    <tr>\n",
       "      <th>...</th>\n",
       "      <td>...</td>\n",
       "      <td>...</td>\n",
       "      <td>...</td>\n",
       "    </tr>\n",
       "    <tr>\n",
       "      <th>434496</th>\n",
       "      <td>07/28/2020 04:00:00 PM</td>\n",
       "      <td>S</td>\n",
       "      <td>AVERS AVE</td>\n",
       "    </tr>\n",
       "    <tr>\n",
       "      <th>434497</th>\n",
       "      <td>07/29/2020 02:00:00 PM</td>\n",
       "      <td>E</td>\n",
       "      <td>49TH ST</td>\n",
       "    </tr>\n",
       "    <tr>\n",
       "      <th>434498</th>\n",
       "      <td>07/29/2020 10:50:00 AM</td>\n",
       "      <td>W</td>\n",
       "      <td>FULLERTON AVE</td>\n",
       "    </tr>\n",
       "    <tr>\n",
       "      <th>434499</th>\n",
       "      <td>07/29/2020 06:30:00 PM</td>\n",
       "      <td>W</td>\n",
       "      <td>WEED ST</td>\n",
       "    </tr>\n",
       "    <tr>\n",
       "      <th>434500</th>\n",
       "      <td>01/06/2020 08:30:00 AM</td>\n",
       "      <td>S</td>\n",
       "      <td>MICHIGAN AVE</td>\n",
       "    </tr>\n",
       "  </tbody>\n",
       "</table>\n",
       "<p>434501 rows × 3 columns</p>\n",
       "</div>"
      ],
      "text/plain": [
       "                    CRASH_DATE STREET_DIRECTION    STREET_NAME\n",
       "0       10/02/2018 06:30:00 PM                W       OHARE ST\n",
       "1       06/27/2019 04:00:00 PM                W    TERMINAL ST\n",
       "2       06/30/2017 04:00:00 PM                S     CICERO AVE\n",
       "3       03/21/2019 10:50:00 PM                S     CICERO AVE\n",
       "4       03/26/2018 02:23:00 PM                N   AVONDALE AVE\n",
       "...                        ...              ...            ...\n",
       "434496  07/28/2020 04:00:00 PM                S      AVERS AVE\n",
       "434497  07/29/2020 02:00:00 PM                E        49TH ST\n",
       "434498  07/29/2020 10:50:00 AM                W  FULLERTON AVE\n",
       "434499  07/29/2020 06:30:00 PM                W        WEED ST\n",
       "434500  01/06/2020 08:30:00 AM                S   MICHIGAN AVE\n",
       "\n",
       "[434501 rows x 3 columns]"
      ]
     },
     "execution_count": 12,
     "metadata": {},
     "output_type": "execute_result"
>>>>>>> 0ac1a6367429e41cbfbb080d97892cbf5ec872e9
    }
   ],
   "source": [
    "Crashes_df"
   ]
  },
  {
   "cell_type": "code",
   "execution_count": 50,
   "metadata": {},
   "outputs": [
    {
<<<<<<< HEAD
     "ename": "NameError",
     "evalue": "name 'Crashes_df' is not defined",
     "output_type": "error",
     "traceback": [
      "\u001b[1;31m---------------------------------------------------------------------------\u001b[0m",
      "\u001b[1;31mNameError\u001b[0m                                 Traceback (most recent call last)",
      "\u001b[1;32m<ipython-input-50-9c6a85b614e2>\u001b[0m in \u001b[0;36m<module>\u001b[1;34m\u001b[0m\n\u001b[1;32m----> 1\u001b[1;33m \u001b[0mCrashes_df\u001b[0m \u001b[1;33m[\u001b[0m\u001b[1;33m[\u001b[0m\u001b[1;34m'STREET'\u001b[0m\u001b[1;33m,\u001b[0m \u001b[1;34m'SUFFIX'\u001b[0m\u001b[1;33m]\u001b[0m\u001b[1;33m]\u001b[0m \u001b[1;33m=\u001b[0m \u001b[0mCrashes_df\u001b[0m\u001b[1;33m[\u001b[0m\u001b[1;34m\"STREET_NAME\"\u001b[0m\u001b[1;33m]\u001b[0m\u001b[1;33m.\u001b[0m\u001b[0mstr\u001b[0m\u001b[1;33m.\u001b[0m\u001b[0mrsplit\u001b[0m\u001b[1;33m(\u001b[0m\u001b[1;34m\" \"\u001b[0m\u001b[1;33m,\u001b[0m \u001b[0mn\u001b[0m\u001b[1;33m=\u001b[0m \u001b[1;36m1\u001b[0m\u001b[1;33m,\u001b[0m \u001b[0mexpand\u001b[0m \u001b[1;33m=\u001b[0m \u001b[1;32mTrue\u001b[0m\u001b[1;33m)\u001b[0m\u001b[1;33m\u001b[0m\u001b[1;33m\u001b[0m\u001b[0m\n\u001b[0m\u001b[0;32m      2\u001b[0m \u001b[0mCrashes_df\u001b[0m\u001b[1;33m\u001b[0m\u001b[1;33m\u001b[0m\u001b[0m\n",
      "\u001b[1;31mNameError\u001b[0m: name 'Crashes_df' is not defined"
     ]
=======
     "data": {
      "text/html": [
       "<div>\n",
       "<style scoped>\n",
       "    .dataframe tbody tr th:only-of-type {\n",
       "        vertical-align: middle;\n",
       "    }\n",
       "\n",
       "    .dataframe tbody tr th {\n",
       "        vertical-align: top;\n",
       "    }\n",
       "\n",
       "    .dataframe thead th {\n",
       "        text-align: right;\n",
       "    }\n",
       "</style>\n",
       "<table border=\"1\" class=\"dataframe\">\n",
       "  <thead>\n",
       "    <tr style=\"text-align: right;\">\n",
       "      <th></th>\n",
       "      <th>CRASH_DATE</th>\n",
       "      <th>STREET_DIRECTION</th>\n",
       "      <th>STREET_NAME</th>\n",
       "      <th>STREET</th>\n",
       "      <th>SUFFIX</th>\n",
       "    </tr>\n",
       "  </thead>\n",
       "  <tbody>\n",
       "    <tr>\n",
       "      <th>0</th>\n",
       "      <td>10/02/2018 06:30:00 PM</td>\n",
       "      <td>W</td>\n",
       "      <td>OHARE ST</td>\n",
       "      <td>OHARE</td>\n",
       "      <td>ST</td>\n",
       "    </tr>\n",
       "    <tr>\n",
       "      <th>1</th>\n",
       "      <td>06/27/2019 04:00:00 PM</td>\n",
       "      <td>W</td>\n",
       "      <td>TERMINAL ST</td>\n",
       "      <td>TERMINAL</td>\n",
       "      <td>ST</td>\n",
       "    </tr>\n",
       "    <tr>\n",
       "      <th>2</th>\n",
       "      <td>06/30/2017 04:00:00 PM</td>\n",
       "      <td>S</td>\n",
       "      <td>CICERO AVE</td>\n",
       "      <td>CICERO</td>\n",
       "      <td>AVE</td>\n",
       "    </tr>\n",
       "    <tr>\n",
       "      <th>3</th>\n",
       "      <td>03/21/2019 10:50:00 PM</td>\n",
       "      <td>S</td>\n",
       "      <td>CICERO AVE</td>\n",
       "      <td>CICERO</td>\n",
       "      <td>AVE</td>\n",
       "    </tr>\n",
       "    <tr>\n",
       "      <th>4</th>\n",
       "      <td>03/26/2018 02:23:00 PM</td>\n",
       "      <td>N</td>\n",
       "      <td>AVONDALE AVE</td>\n",
       "      <td>AVONDALE</td>\n",
       "      <td>AVE</td>\n",
       "    </tr>\n",
       "    <tr>\n",
       "      <th>...</th>\n",
       "      <td>...</td>\n",
       "      <td>...</td>\n",
       "      <td>...</td>\n",
       "      <td>...</td>\n",
       "      <td>...</td>\n",
       "    </tr>\n",
       "    <tr>\n",
       "      <th>434496</th>\n",
       "      <td>07/28/2020 04:00:00 PM</td>\n",
       "      <td>S</td>\n",
       "      <td>AVERS AVE</td>\n",
       "      <td>AVERS</td>\n",
       "      <td>AVE</td>\n",
       "    </tr>\n",
       "    <tr>\n",
       "      <th>434497</th>\n",
       "      <td>07/29/2020 02:00:00 PM</td>\n",
       "      <td>E</td>\n",
       "      <td>49TH ST</td>\n",
       "      <td>49TH</td>\n",
       "      <td>ST</td>\n",
       "    </tr>\n",
       "    <tr>\n",
       "      <th>434498</th>\n",
       "      <td>07/29/2020 10:50:00 AM</td>\n",
       "      <td>W</td>\n",
       "      <td>FULLERTON AVE</td>\n",
       "      <td>FULLERTON</td>\n",
       "      <td>AVE</td>\n",
       "    </tr>\n",
       "    <tr>\n",
       "      <th>434499</th>\n",
       "      <td>07/29/2020 06:30:00 PM</td>\n",
       "      <td>W</td>\n",
       "      <td>WEED ST</td>\n",
       "      <td>WEED</td>\n",
       "      <td>ST</td>\n",
       "    </tr>\n",
       "    <tr>\n",
       "      <th>434500</th>\n",
       "      <td>01/06/2020 08:30:00 AM</td>\n",
       "      <td>S</td>\n",
       "      <td>MICHIGAN AVE</td>\n",
       "      <td>MICHIGAN</td>\n",
       "      <td>AVE</td>\n",
       "    </tr>\n",
       "  </tbody>\n",
       "</table>\n",
       "<p>434501 rows × 5 columns</p>\n",
       "</div>"
      ],
      "text/plain": [
       "                    CRASH_DATE STREET_DIRECTION    STREET_NAME     STREET  \\\n",
       "0       10/02/2018 06:30:00 PM                W       OHARE ST      OHARE   \n",
       "1       06/27/2019 04:00:00 PM                W    TERMINAL ST   TERMINAL   \n",
       "2       06/30/2017 04:00:00 PM                S     CICERO AVE     CICERO   \n",
       "3       03/21/2019 10:50:00 PM                S     CICERO AVE     CICERO   \n",
       "4       03/26/2018 02:23:00 PM                N   AVONDALE AVE   AVONDALE   \n",
       "...                        ...              ...            ...        ...   \n",
       "434496  07/28/2020 04:00:00 PM                S      AVERS AVE      AVERS   \n",
       "434497  07/29/2020 02:00:00 PM                E        49TH ST       49TH   \n",
       "434498  07/29/2020 10:50:00 AM                W  FULLERTON AVE  FULLERTON   \n",
       "434499  07/29/2020 06:30:00 PM                W        WEED ST       WEED   \n",
       "434500  01/06/2020 08:30:00 AM                S   MICHIGAN AVE   MICHIGAN   \n",
       "\n",
       "       SUFFIX  \n",
       "0          ST  \n",
       "1          ST  \n",
       "2         AVE  \n",
       "3         AVE  \n",
       "4         AVE  \n",
       "...       ...  \n",
       "434496    AVE  \n",
       "434497     ST  \n",
       "434498    AVE  \n",
       "434499     ST  \n",
       "434500    AVE  \n",
       "\n",
       "[434501 rows x 5 columns]"
      ]
     },
     "execution_count": 13,
     "metadata": {},
     "output_type": "execute_result"
>>>>>>> 0ac1a6367429e41cbfbb080d97892cbf5ec872e9
    }
   ],
   "source": [
    "Crashes_df [['STREET', 'SUFFIX']] = Crashes_df[\"STREET_NAME\"].str.rsplit(\" \", n= 1, expand = True)\n",
    "Crashes_df"
   ]
  },
  {
   "cell_type": "code",
   "execution_count": 51,
   "metadata": {},
   "outputs": [
    {
<<<<<<< HEAD
     "ename": "NameError",
     "evalue": "name 'Crashes_df' is not defined",
     "output_type": "error",
     "traceback": [
      "\u001b[1;31m---------------------------------------------------------------------------\u001b[0m",
      "\u001b[1;31mNameError\u001b[0m                                 Traceback (most recent call last)",
      "\u001b[1;32m<ipython-input-51-c05418a7a157>\u001b[0m in \u001b[0;36m<module>\u001b[1;34m\u001b[0m\n\u001b[1;32m----> 1\u001b[1;33m \u001b[0mCrashes_df\u001b[0m \u001b[1;33m=\u001b[0m \u001b[0mCrashes_df\u001b[0m \u001b[1;33m[\u001b[0m\u001b[1;33m[\u001b[0m\u001b[1;34m'CRASH_DATE'\u001b[0m\u001b[1;33m,\u001b[0m \u001b[1;34m'STREET_DIRECTION'\u001b[0m\u001b[1;33m,\u001b[0m \u001b[1;34m'STREET'\u001b[0m\u001b[1;33m]\u001b[0m\u001b[1;33m]\u001b[0m\u001b[1;33m\u001b[0m\u001b[1;33m\u001b[0m\u001b[0m\n\u001b[0m\u001b[0;32m      2\u001b[0m Crashes_df.rename({\n\u001b[0;32m      3\u001b[0m     \u001b[1;34m\"STREET_DIRECTION\"\u001b[0m\u001b[1;33m:\u001b[0m \u001b[1;34m\"STREET DIRECTION\"\u001b[0m\u001b[1;33m,\u001b[0m\u001b[1;33m\u001b[0m\u001b[1;33m\u001b[0m\u001b[0m\n\u001b[0;32m      4\u001b[0m     \u001b[1;34m\"CRASH_DATE\"\u001b[0m\u001b[1;33m:\u001b[0m \u001b[1;34m\"CRASH DATE\"\u001b[0m\u001b[1;33m\u001b[0m\u001b[1;33m\u001b[0m\u001b[0m\n\u001b[0;32m      5\u001b[0m },inplace = True, axis = 1)\n",
      "\u001b[1;31mNameError\u001b[0m: name 'Crashes_df' is not defined"
     ]
=======
     "name": "stderr",
     "output_type": "stream",
     "text": [
      "C:\\Users\\mpira\\anaconda3\\lib\\site-packages\\pandas\\core\\frame.py:4298: SettingWithCopyWarning: \n",
      "A value is trying to be set on a copy of a slice from a DataFrame\n",
      "\n",
      "See the caveats in the documentation: https://pandas.pydata.org/pandas-docs/stable/user_guide/indexing.html#returning-a-view-versus-a-copy\n",
      "  errors=errors,\n"
     ]
    },
    {
     "data": {
      "text/html": [
       "<div>\n",
       "<style scoped>\n",
       "    .dataframe tbody tr th:only-of-type {\n",
       "        vertical-align: middle;\n",
       "    }\n",
       "\n",
       "    .dataframe tbody tr th {\n",
       "        vertical-align: top;\n",
       "    }\n",
       "\n",
       "    .dataframe thead th {\n",
       "        text-align: right;\n",
       "    }\n",
       "</style>\n",
       "<table border=\"1\" class=\"dataframe\">\n",
       "  <thead>\n",
       "    <tr style=\"text-align: right;\">\n",
       "      <th></th>\n",
       "      <th>CRASH DATE</th>\n",
       "      <th>STREET DIRECTION</th>\n",
       "      <th>STREET</th>\n",
       "    </tr>\n",
       "  </thead>\n",
       "  <tbody>\n",
       "    <tr>\n",
       "      <th>0</th>\n",
       "      <td>10/02/2018 06:30:00 PM</td>\n",
       "      <td>W</td>\n",
       "      <td>OHARE</td>\n",
       "    </tr>\n",
       "    <tr>\n",
       "      <th>1</th>\n",
       "      <td>06/27/2019 04:00:00 PM</td>\n",
       "      <td>W</td>\n",
       "      <td>TERMINAL</td>\n",
       "    </tr>\n",
       "    <tr>\n",
       "      <th>2</th>\n",
       "      <td>06/30/2017 04:00:00 PM</td>\n",
       "      <td>S</td>\n",
       "      <td>CICERO</td>\n",
       "    </tr>\n",
       "    <tr>\n",
       "      <th>3</th>\n",
       "      <td>03/21/2019 10:50:00 PM</td>\n",
       "      <td>S</td>\n",
       "      <td>CICERO</td>\n",
       "    </tr>\n",
       "    <tr>\n",
       "      <th>4</th>\n",
       "      <td>03/26/2018 02:23:00 PM</td>\n",
       "      <td>N</td>\n",
       "      <td>AVONDALE</td>\n",
       "    </tr>\n",
       "    <tr>\n",
       "      <th>...</th>\n",
       "      <td>...</td>\n",
       "      <td>...</td>\n",
       "      <td>...</td>\n",
       "    </tr>\n",
       "    <tr>\n",
       "      <th>434496</th>\n",
       "      <td>07/28/2020 04:00:00 PM</td>\n",
       "      <td>S</td>\n",
       "      <td>AVERS</td>\n",
       "    </tr>\n",
       "    <tr>\n",
       "      <th>434497</th>\n",
       "      <td>07/29/2020 02:00:00 PM</td>\n",
       "      <td>E</td>\n",
       "      <td>49TH</td>\n",
       "    </tr>\n",
       "    <tr>\n",
       "      <th>434498</th>\n",
       "      <td>07/29/2020 10:50:00 AM</td>\n",
       "      <td>W</td>\n",
       "      <td>FULLERTON</td>\n",
       "    </tr>\n",
       "    <tr>\n",
       "      <th>434499</th>\n",
       "      <td>07/29/2020 06:30:00 PM</td>\n",
       "      <td>W</td>\n",
       "      <td>WEED</td>\n",
       "    </tr>\n",
       "    <tr>\n",
       "      <th>434500</th>\n",
       "      <td>01/06/2020 08:30:00 AM</td>\n",
       "      <td>S</td>\n",
       "      <td>MICHIGAN</td>\n",
       "    </tr>\n",
       "  </tbody>\n",
       "</table>\n",
       "<p>434501 rows × 3 columns</p>\n",
       "</div>"
      ],
      "text/plain": [
       "                    CRASH DATE STREET DIRECTION     STREET\n",
       "0       10/02/2018 06:30:00 PM                W      OHARE\n",
       "1       06/27/2019 04:00:00 PM                W   TERMINAL\n",
       "2       06/30/2017 04:00:00 PM                S     CICERO\n",
       "3       03/21/2019 10:50:00 PM                S     CICERO\n",
       "4       03/26/2018 02:23:00 PM                N   AVONDALE\n",
       "...                        ...              ...        ...\n",
       "434496  07/28/2020 04:00:00 PM                S      AVERS\n",
       "434497  07/29/2020 02:00:00 PM                E       49TH\n",
       "434498  07/29/2020 10:50:00 AM                W  FULLERTON\n",
       "434499  07/29/2020 06:30:00 PM                W       WEED\n",
       "434500  01/06/2020 08:30:00 AM                S   MICHIGAN\n",
       "\n",
       "[434501 rows x 3 columns]"
      ]
     },
     "execution_count": 14,
     "metadata": {},
     "output_type": "execute_result"
>>>>>>> 0ac1a6367429e41cbfbb080d97892cbf5ec872e9
    }
   ],
   "source": [
    "Crashes_df = Crashes_df [['CRASH_DATE', 'STREET_DIRECTION', 'STREET']]\n",
    "Crashes_df.rename({\n",
    "    \"STREET_DIRECTION\": \"STREET DIRECTION\",\n",
    "    \"CRASH_DATE\": \"CRASH DATE\"\n",
    "},inplace = True, axis = 1)\n",
    "Crashes_df"
   ]
  },
  {
   "cell_type": "code",
<<<<<<< HEAD
   "execution_count": 52,
   "metadata": {},
   "outputs": [
    {
     "ename": "NameError",
     "evalue": "name 'Crashes_df' is not defined",
     "output_type": "error",
     "traceback": [
      "\u001b[1;31m---------------------------------------------------------------------------\u001b[0m",
      "\u001b[1;31mNameError\u001b[0m                                 Traceback (most recent call last)",
      "\u001b[1;32m<ipython-input-52-ef8e70571ac3>\u001b[0m in \u001b[0;36m<module>\u001b[1;34m\u001b[0m\n\u001b[1;32m----> 1\u001b[1;33m \u001b[0mFinal_Crash\u001b[0m \u001b[1;33m=\u001b[0m \u001b[0mCrashes_df\u001b[0m\u001b[1;33m.\u001b[0m\u001b[0mgroupby\u001b[0m\u001b[1;33m(\u001b[0m\u001b[1;33m[\u001b[0m\u001b[1;34m'STREET'\u001b[0m\u001b[1;33m,\u001b[0m\u001b[1;34m'STREET DIRECTION'\u001b[0m\u001b[1;33m]\u001b[0m\u001b[1;33m)\u001b[0m\u001b[1;33m.\u001b[0m\u001b[0mcount\u001b[0m\u001b[1;33m(\u001b[0m\u001b[1;33m)\u001b[0m\u001b[1;33m\u001b[0m\u001b[1;33m\u001b[0m\u001b[0m\n\u001b[0m\u001b[0;32m      2\u001b[0m \u001b[0mFinal_Crash\u001b[0m\u001b[1;33m\u001b[0m\u001b[1;33m\u001b[0m\u001b[0m\n",
      "\u001b[1;31mNameError\u001b[0m: name 'Crashes_df' is not defined"
     ]
=======
   "execution_count": 15,
   "metadata": {},
   "outputs": [
    {
     "data": {
      "text/html": [
       "<div>\n",
       "<style scoped>\n",
       "    .dataframe tbody tr th:only-of-type {\n",
       "        vertical-align: middle;\n",
       "    }\n",
       "\n",
       "    .dataframe tbody tr th {\n",
       "        vertical-align: top;\n",
       "    }\n",
       "\n",
       "    .dataframe thead th {\n",
       "        text-align: right;\n",
       "    }\n",
       "</style>\n",
       "<table border=\"1\" class=\"dataframe\">\n",
       "  <thead>\n",
       "    <tr style=\"text-align: right;\">\n",
       "      <th></th>\n",
       "      <th></th>\n",
       "      <th>CRASH DATE</th>\n",
       "    </tr>\n",
       "    <tr>\n",
       "      <th>STREET</th>\n",
       "      <th>STREET DIRECTION</th>\n",
       "      <th></th>\n",
       "    </tr>\n",
       "  </thead>\n",
       "  <tbody>\n",
       "    <tr>\n",
       "      <th rowspan=\"2\" valign=\"top\">100TH</th>\n",
       "      <th>E</th>\n",
       "      <td>243</td>\n",
       "    </tr>\n",
       "    <tr>\n",
       "      <th>W</th>\n",
       "      <td>73</td>\n",
       "    </tr>\n",
       "    <tr>\n",
       "      <th rowspan=\"2\" valign=\"top\">101ST</th>\n",
       "      <th>E</th>\n",
       "      <td>48</td>\n",
       "    </tr>\n",
       "    <tr>\n",
       "      <th>W</th>\n",
       "      <td>60</td>\n",
       "    </tr>\n",
       "    <tr>\n",
       "      <th>102ND</th>\n",
       "      <th>E</th>\n",
       "      <td>38</td>\n",
       "    </tr>\n",
       "    <tr>\n",
       "      <th>...</th>\n",
       "      <th>...</th>\n",
       "      <td>...</td>\n",
       "    </tr>\n",
       "    <tr>\n",
       "      <th>YALE</th>\n",
       "      <th>S</th>\n",
       "      <td>276</td>\n",
       "    </tr>\n",
       "    <tr>\n",
       "      <th>YALE AVE</th>\n",
       "      <th>S</th>\n",
       "      <td>1</td>\n",
       "    </tr>\n",
       "    <tr>\n",
       "      <th>YATES</th>\n",
       "      <th>S</th>\n",
       "      <td>659</td>\n",
       "    </tr>\n",
       "    <tr>\n",
       "      <th>YOUNG</th>\n",
       "      <th>S</th>\n",
       "      <td>1</td>\n",
       "    </tr>\n",
       "    <tr>\n",
       "      <th>ZEMKE</th>\n",
       "      <th>W</th>\n",
       "      <td>41</td>\n",
       "    </tr>\n",
       "  </tbody>\n",
       "</table>\n",
       "<p>1628 rows × 1 columns</p>\n",
       "</div>"
      ],
      "text/plain": [
       "                           CRASH DATE\n",
       "STREET   STREET DIRECTION            \n",
       "100TH    E                        243\n",
       "         W                         73\n",
       "101ST    E                         48\n",
       "         W                         60\n",
       "102ND    E                         38\n",
       "...                               ...\n",
       "YALE     S                        276\n",
       "YALE AVE S                          1\n",
       "YATES    S                        659\n",
       "YOUNG    S                          1\n",
       "ZEMKE    W                         41\n",
       "\n",
       "[1628 rows x 1 columns]"
      ]
     },
     "execution_count": 15,
     "metadata": {},
     "output_type": "execute_result"
>>>>>>> 0ac1a6367429e41cbfbb080d97892cbf5ec872e9
    }
   ],
   "source": [
    "Final_Crash = Crashes_df.groupby(['STREET','STREET DIRECTION']).count()\n",
    "Final_Crash"
   ]
  },
  {
   "cell_type": "code",
<<<<<<< HEAD
   "execution_count": 53,
   "metadata": {},
   "outputs": [
    {
     "ename": "NameError",
     "evalue": "name 'Red_Light_df' is not defined",
     "output_type": "error",
     "traceback": [
      "\u001b[1;31m---------------------------------------------------------------------------\u001b[0m",
      "\u001b[1;31mNameError\u001b[0m                                 Traceback (most recent call last)",
      "\u001b[1;32m<ipython-input-53-70a0ddd4fe49>\u001b[0m in \u001b[0;36m<module>\u001b[1;34m\u001b[0m\n\u001b[1;32m----> 1\u001b[1;33m \u001b[0mFinal_RL\u001b[0m \u001b[1;33m=\u001b[0m \u001b[0mRed_Light_df\u001b[0m\u001b[1;33m.\u001b[0m\u001b[0mgroupby\u001b[0m\u001b[1;33m(\u001b[0m\u001b[1;33m[\u001b[0m\u001b[1;34m'STREET'\u001b[0m\u001b[1;33m,\u001b[0m\u001b[1;34m'STREET DIRECTION'\u001b[0m\u001b[1;33m]\u001b[0m\u001b[1;33m)\u001b[0m\u001b[1;33m.\u001b[0m\u001b[0magg\u001b[0m\u001b[1;33m(\u001b[0m\u001b[1;33m{\u001b[0m\u001b[1;34m\"VIOLATIONS\"\u001b[0m\u001b[1;33m:\u001b[0m \u001b[1;34m\"count\"\u001b[0m\u001b[1;33m}\u001b[0m\u001b[1;33m)\u001b[0m\u001b[1;33m\u001b[0m\u001b[1;33m\u001b[0m\u001b[0m\n\u001b[0m\u001b[0;32m      2\u001b[0m \u001b[0mFinal_RL\u001b[0m\u001b[1;33m\u001b[0m\u001b[1;33m\u001b[0m\u001b[0m\n",
      "\u001b[1;31mNameError\u001b[0m: name 'Red_Light_df' is not defined"
     ]
=======
   "execution_count": 16,
   "metadata": {},
   "outputs": [
    {
     "data": {
      "text/html": [
       "<div>\n",
       "<style scoped>\n",
       "    .dataframe tbody tr th:only-of-type {\n",
       "        vertical-align: middle;\n",
       "    }\n",
       "\n",
       "    .dataframe tbody tr th {\n",
       "        vertical-align: top;\n",
       "    }\n",
       "\n",
       "    .dataframe thead th {\n",
       "        text-align: right;\n",
       "    }\n",
       "</style>\n",
       "<table border=\"1\" class=\"dataframe\">\n",
       "  <thead>\n",
       "    <tr style=\"text-align: right;\">\n",
       "      <th></th>\n",
       "      <th></th>\n",
       "      <th>VIOLATIONS</th>\n",
       "    </tr>\n",
       "    <tr>\n",
       "      <th>STREET</th>\n",
       "      <th>STREET DIRECTION</th>\n",
       "      <th></th>\n",
       "    </tr>\n",
       "  </thead>\n",
       "  <tbody>\n",
       "    <tr>\n",
       "      <th>103RD</th>\n",
       "      <th>W</th>\n",
       "      <td>2640</td>\n",
       "    </tr>\n",
       "    <tr>\n",
       "      <th>111TH</th>\n",
       "      <th>W</th>\n",
       "      <td>6110</td>\n",
       "    </tr>\n",
       "    <tr>\n",
       "      <th>115TH</th>\n",
       "      <th>W</th>\n",
       "      <td>3442</td>\n",
       "    </tr>\n",
       "    <tr>\n",
       "      <th>119TH</th>\n",
       "      <th>W</th>\n",
       "      <td>6681</td>\n",
       "    </tr>\n",
       "    <tr>\n",
       "      <th>31ST</th>\n",
       "      <th>E</th>\n",
       "      <td>8555</td>\n",
       "    </tr>\n",
       "    <tr>\n",
       "      <th>...</th>\n",
       "      <th>...</th>\n",
       "      <td>...</td>\n",
       "    </tr>\n",
       "    <tr>\n",
       "      <th>VAN BUREN</th>\n",
       "      <th>W</th>\n",
       "      <td>21196</td>\n",
       "    </tr>\n",
       "    <tr>\n",
       "      <th>VINCENNES</th>\n",
       "      <th>S</th>\n",
       "      <td>21545</td>\n",
       "    </tr>\n",
       "    <tr>\n",
       "      <th>WENTWORTH</th>\n",
       "      <th>S</th>\n",
       "      <td>43131</td>\n",
       "    </tr>\n",
       "    <tr>\n",
       "      <th rowspan=\"2\" valign=\"top\">WESTERN</th>\n",
       "      <th>N</th>\n",
       "      <td>107086</td>\n",
       "    </tr>\n",
       "    <tr>\n",
       "      <th>S</th>\n",
       "      <td>156712</td>\n",
       "    </tr>\n",
       "  </tbody>\n",
       "</table>\n",
       "<p>109 rows × 1 columns</p>\n",
       "</div>"
      ],
      "text/plain": [
       "                            VIOLATIONS\n",
       "STREET    STREET DIRECTION            \n",
       "103RD     W                       2640\n",
       "111TH     W                       6110\n",
       "115TH     W                       3442\n",
       "119TH     W                       6681\n",
       "31ST      E                       8555\n",
       "...                                ...\n",
       "VAN BUREN W                      21196\n",
       "VINCENNES S                      21545\n",
       "WENTWORTH S                      43131\n",
       "WESTERN   N                     107086\n",
       "          S                     156712\n",
       "\n",
       "[109 rows x 1 columns]"
      ]
     },
     "execution_count": 16,
     "metadata": {},
     "output_type": "execute_result"
>>>>>>> 0ac1a6367429e41cbfbb080d97892cbf5ec872e9
    }
   ],
   "source": [
    "Final_RL = Red_Light_df.groupby(['STREET','STREET DIRECTION']).agg({\"VIOLATIONS\": \"sum\"})\n",
    "Final_RL"
   ]
  },
  {
   "cell_type": "code",
<<<<<<< HEAD
   "execution_count": 54,
   "metadata": {},
   "outputs": [
    {
     "ename": "NameError",
     "evalue": "name 'Final_Crash' is not defined",
     "output_type": "error",
     "traceback": [
      "\u001b[1;31m---------------------------------------------------------------------------\u001b[0m",
      "\u001b[1;31mNameError\u001b[0m                                 Traceback (most recent call last)",
      "\u001b[1;32m<ipython-input-54-735d6123bde7>\u001b[0m in \u001b[0;36m<module>\u001b[1;34m\u001b[0m\n\u001b[1;32m----> 1\u001b[1;33m \u001b[0mFinal_Crash\u001b[0m\u001b[1;33m.\u001b[0m\u001b[0mjoin\u001b[0m\u001b[1;33m(\u001b[0m\u001b[0mFinal_RL\u001b[0m\u001b[1;33m,\u001b[0m \u001b[0mhow\u001b[0m\u001b[1;33m=\u001b[0m\u001b[1;34m\"outer\"\u001b[0m\u001b[1;33m)\u001b[0m\u001b[1;33m\u001b[0m\u001b[1;33m\u001b[0m\u001b[0m\n\u001b[0m",
      "\u001b[1;31mNameError\u001b[0m: name 'Final_Crash' is not defined"
     ]
=======
   "execution_count": 17,
   "metadata": {},
   "outputs": [
    {
     "data": {
      "text/html": [
       "<div>\n",
       "<style scoped>\n",
       "    .dataframe tbody tr th:only-of-type {\n",
       "        vertical-align: middle;\n",
       "    }\n",
       "\n",
       "    .dataframe tbody tr th {\n",
       "        vertical-align: top;\n",
       "    }\n",
       "\n",
       "    .dataframe thead th {\n",
       "        text-align: right;\n",
       "    }\n",
       "</style>\n",
       "<table border=\"1\" class=\"dataframe\">\n",
       "  <thead>\n",
       "    <tr style=\"text-align: right;\">\n",
       "      <th></th>\n",
       "      <th></th>\n",
       "      <th>CRASH DATE</th>\n",
       "      <th>VIOLATIONS</th>\n",
       "    </tr>\n",
       "    <tr>\n",
       "      <th>STREET</th>\n",
       "      <th>STREET DIRECTION</th>\n",
       "      <th></th>\n",
       "      <th></th>\n",
       "    </tr>\n",
       "  </thead>\n",
       "  <tbody>\n",
       "    <tr>\n",
       "      <th>103RD</th>\n",
       "      <th>W</th>\n",
       "      <td>816.0</td>\n",
       "      <td>2640.0</td>\n",
       "    </tr>\n",
       "    <tr>\n",
       "      <th>111TH</th>\n",
       "      <th>W</th>\n",
       "      <td>1167.0</td>\n",
       "      <td>6110.0</td>\n",
       "    </tr>\n",
       "    <tr>\n",
       "      <th>115TH</th>\n",
       "      <th>W</th>\n",
       "      <td>586.0</td>\n",
       "      <td>3442.0</td>\n",
       "    </tr>\n",
       "    <tr>\n",
       "      <th>119TH</th>\n",
       "      <th>W</th>\n",
       "      <td>535.0</td>\n",
       "      <td>6681.0</td>\n",
       "    </tr>\n",
       "    <tr>\n",
       "      <th>31ST</th>\n",
       "      <th>E</th>\n",
       "      <td>173.0</td>\n",
       "      <td>8555.0</td>\n",
       "    </tr>\n",
       "    <tr>\n",
       "      <th>...</th>\n",
       "      <th>...</th>\n",
       "      <td>...</td>\n",
       "      <td>...</td>\n",
       "    </tr>\n",
       "    <tr>\n",
       "      <th>VAN BUREN</th>\n",
       "      <th>W</th>\n",
       "      <td>1185.0</td>\n",
       "      <td>21196.0</td>\n",
       "    </tr>\n",
       "    <tr>\n",
       "      <th>VINCENNES</th>\n",
       "      <th>S</th>\n",
       "      <td>1674.0</td>\n",
       "      <td>21545.0</td>\n",
       "    </tr>\n",
       "    <tr>\n",
       "      <th>WENTWORTH</th>\n",
       "      <th>S</th>\n",
       "      <td>2135.0</td>\n",
       "      <td>43131.0</td>\n",
       "    </tr>\n",
       "    <tr>\n",
       "      <th rowspan=\"2\" valign=\"top\">WESTERN</th>\n",
       "      <th>N</th>\n",
       "      <td>4932.0</td>\n",
       "      <td>107086.0</td>\n",
       "    </tr>\n",
       "    <tr>\n",
       "      <th>S</th>\n",
       "      <td>7557.0</td>\n",
       "      <td>156712.0</td>\n",
       "    </tr>\n",
       "  </tbody>\n",
       "</table>\n",
       "<p>102 rows × 2 columns</p>\n",
       "</div>"
      ],
      "text/plain": [
       "                            CRASH DATE  VIOLATIONS\n",
       "STREET    STREET DIRECTION                        \n",
       "103RD     W                      816.0      2640.0\n",
       "111TH     W                     1167.0      6110.0\n",
       "115TH     W                      586.0      3442.0\n",
       "119TH     W                      535.0      6681.0\n",
       "31ST      E                      173.0      8555.0\n",
       "...                                ...         ...\n",
       "VAN BUREN W                     1185.0     21196.0\n",
       "VINCENNES S                     1674.0     21545.0\n",
       "WENTWORTH S                     2135.0     43131.0\n",
       "WESTERN   N                     4932.0    107086.0\n",
       "          S                     7557.0    156712.0\n",
       "\n",
       "[102 rows x 2 columns]"
      ]
     },
     "execution_count": 17,
     "metadata": {},
     "output_type": "execute_result"
>>>>>>> 0ac1a6367429e41cbfbb080d97892cbf5ec872e9
    }
   ],
   "source": [
    "Final_Crash.join(Final_RL, how=\"outer\")"
   ]
  },
  {
   "cell_type": "code",
<<<<<<< HEAD
   "execution_count": 55,
=======
   "execution_count": 18,
>>>>>>> 0ac1a6367429e41cbfbb080d97892cbf5ec872e9
   "metadata": {},
   "outputs": [],
   "source": [
    "#list(Red_Light_df[\"STREET NAME\"].unique())\n",
    "#print(sorted(df['Column Name'].unique()))\n",
    "#print(sorted(Red_Light_df[\"STREET NAME\"].unique))\n",
    "#pd.DataFrame(Red_Light_df[\"STREET DIRECTION\"].explode())"
   ]
  },
  {
   "cell_type": "markdown",
   "metadata": {},
   "source": [
    "### Add to database"
   ]
  },
  {
   "cell_type": "code",
   "execution_count": 19,
   "metadata": {},
   "outputs": [],
   "source": [
    "# Python SQL toolkit and Object Relational Mapper\n",
    "import sqlalchemy\n",
    "from sqlalchemy.ext.declarative import declarative_base\n",
    "from sqlalchemy.orm import Session\n",
    "from sqlalchemy import create_engine, func, inspect"
   ]
  },
  {
   "cell_type": "code",
   "execution_count": 20,
   "metadata": {},
   "outputs": [],
   "source": [
    "engine = create_engine(\"sqlite:///Resource/traffic.sqlite\")"
   ]
  },
  {
   "cell_type": "code",
   "execution_count": 21,
   "metadata": {},
   "outputs": [],
   "source": [
    "session = Session(engine)"
   ]
  },
  {
   "cell_type": "code",
   "execution_count": 22,
   "metadata": {},
   "outputs": [],
   "source": [
    "Crashes_df.to_sql('crashes', engine, if_exists = 'replace')"
   ]
  },
  {
   "cell_type": "code",
   "execution_count": 23,
   "metadata": {},
   "outputs": [],
   "source": [
    "Red_Light_df.to_sql('red light', engine, if_exists = 'replace')"
   ]
  },
  {
   "cell_type": "code",
   "execution_count": 24,
   "metadata": {},
   "outputs": [
    {
     "data": {
      "text/html": [
       "<div>\n",
       "<style scoped>\n",
       "    .dataframe tbody tr th:only-of-type {\n",
       "        vertical-align: middle;\n",
       "    }\n",
       "\n",
       "    .dataframe tbody tr th {\n",
       "        vertical-align: top;\n",
       "    }\n",
       "\n",
       "    .dataframe thead th {\n",
       "        text-align: right;\n",
       "    }\n",
       "</style>\n",
       "<table border=\"1\" class=\"dataframe\">\n",
       "  <thead>\n",
       "    <tr style=\"text-align: right;\">\n",
       "      <th></th>\n",
       "      <th>index</th>\n",
       "      <th>CRASH DATE</th>\n",
       "      <th>STREET DIRECTION</th>\n",
       "      <th>STREET</th>\n",
       "    </tr>\n",
       "  </thead>\n",
       "  <tbody>\n",
       "    <tr>\n",
       "      <th>0</th>\n",
       "      <td>0</td>\n",
       "      <td>10/02/2018 06:30:00 PM</td>\n",
       "      <td>W</td>\n",
       "      <td>OHARE</td>\n",
       "    </tr>\n",
       "    <tr>\n",
       "      <th>1</th>\n",
       "      <td>1</td>\n",
       "      <td>06/27/2019 04:00:00 PM</td>\n",
       "      <td>W</td>\n",
       "      <td>TERMINAL</td>\n",
       "    </tr>\n",
       "    <tr>\n",
       "      <th>2</th>\n",
       "      <td>2</td>\n",
       "      <td>06/30/2017 04:00:00 PM</td>\n",
       "      <td>S</td>\n",
       "      <td>CICERO</td>\n",
       "    </tr>\n",
       "    <tr>\n",
       "      <th>3</th>\n",
       "      <td>3</td>\n",
       "      <td>03/21/2019 10:50:00 PM</td>\n",
       "      <td>S</td>\n",
       "      <td>CICERO</td>\n",
       "    </tr>\n",
       "    <tr>\n",
       "      <th>4</th>\n",
       "      <td>4</td>\n",
       "      <td>03/26/2018 02:23:00 PM</td>\n",
       "      <td>N</td>\n",
       "      <td>AVONDALE</td>\n",
       "    </tr>\n",
       "    <tr>\n",
       "      <th>...</th>\n",
       "      <td>...</td>\n",
       "      <td>...</td>\n",
       "      <td>...</td>\n",
       "      <td>...</td>\n",
       "    </tr>\n",
       "    <tr>\n",
       "      <th>434496</th>\n",
       "      <td>434496</td>\n",
       "      <td>07/28/2020 04:00:00 PM</td>\n",
       "      <td>S</td>\n",
       "      <td>AVERS</td>\n",
       "    </tr>\n",
       "    <tr>\n",
       "      <th>434497</th>\n",
       "      <td>434497</td>\n",
       "      <td>07/29/2020 02:00:00 PM</td>\n",
       "      <td>E</td>\n",
       "      <td>49TH</td>\n",
       "    </tr>\n",
       "    <tr>\n",
       "      <th>434498</th>\n",
       "      <td>434498</td>\n",
       "      <td>07/29/2020 10:50:00 AM</td>\n",
       "      <td>W</td>\n",
       "      <td>FULLERTON</td>\n",
       "    </tr>\n",
       "    <tr>\n",
       "      <th>434499</th>\n",
       "      <td>434499</td>\n",
       "      <td>07/29/2020 06:30:00 PM</td>\n",
       "      <td>W</td>\n",
       "      <td>WEED</td>\n",
       "    </tr>\n",
       "    <tr>\n",
       "      <th>434500</th>\n",
       "      <td>434500</td>\n",
       "      <td>01/06/2020 08:30:00 AM</td>\n",
       "      <td>S</td>\n",
       "      <td>MICHIGAN</td>\n",
       "    </tr>\n",
       "  </tbody>\n",
       "</table>\n",
       "<p>434501 rows × 4 columns</p>\n",
       "</div>"
      ],
      "text/plain": [
       "         index              CRASH DATE STREET DIRECTION     STREET\n",
       "0            0  10/02/2018 06:30:00 PM                W      OHARE\n",
       "1            1  06/27/2019 04:00:00 PM                W   TERMINAL\n",
       "2            2  06/30/2017 04:00:00 PM                S     CICERO\n",
       "3            3  03/21/2019 10:50:00 PM                S     CICERO\n",
       "4            4  03/26/2018 02:23:00 PM                N   AVONDALE\n",
       "...        ...                     ...              ...        ...\n",
       "434496  434496  07/28/2020 04:00:00 PM                S      AVERS\n",
       "434497  434497  07/29/2020 02:00:00 PM                E       49TH\n",
       "434498  434498  07/29/2020 10:50:00 AM                W  FULLERTON\n",
       "434499  434499  07/29/2020 06:30:00 PM                W       WEED\n",
       "434500  434500  01/06/2020 08:30:00 AM                S   MICHIGAN\n",
       "\n",
       "[434501 rows x 4 columns]"
      ]
     },
     "execution_count": 24,
     "metadata": {},
     "output_type": "execute_result"
    }
   ],
   "source": [
    "pd.read_sql_table('crashes', engine)"
   ]
  },
  {
   "cell_type": "code",
   "execution_count": null,
   "metadata": {},
   "outputs": [],
   "source": []
  },
  {
   "cell_type": "code",
   "execution_count": null,
   "metadata": {},
   "outputs": [],
   "source": []
  },
  {
   "cell_type": "code",
   "execution_count": null,
   "metadata": {},
   "outputs": [],
   "source": []
  }
 ],
 "metadata": {
  "kernelspec": {
   "display_name": "Python 3",
   "language": "python",
   "name": "python3"
  },
  "language_info": {
   "codemirror_mode": {
    "name": "ipython",
    "version": 3
   },
   "file_extension": ".py",
   "mimetype": "text/x-python",
   "name": "python",
   "nbconvert_exporter": "python",
   "pygments_lexer": "ipython3",
   "version": "3.7.7"
  }
 },
 "nbformat": 4,
 "nbformat_minor": 4
}
